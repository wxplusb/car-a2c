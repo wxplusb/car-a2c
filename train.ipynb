{
 "cells": [
  {
   "cell_type": "markdown",
   "metadata": {},
   "source": [
    "Train model"
   ]
  },
  {
   "cell_type": "code",
   "execution_count": 1,
   "metadata": {},
   "outputs": [],
   "source": [
    "import torch.optim as optim\n",
    "\n",
    "import car.env as e\n",
    "from car.car_net import CarNet\n",
    "import car.a2c as a2c"
   ]
  },
  {
   "cell_type": "code",
   "execution_count": 2,
   "metadata": {},
   "outputs": [
    {
     "name": "stdout",
     "output_type": "stream",
     "text": [
      "    norms of grads =  [0.05, 0.09, 0.88, 0.21, 4.57, 0.51, 0.37, 1.24, 1.41, 0.17, 0.13, 0.45]\n",
      "    policy=-9.715, value=24.64, entropy=-2.2, en_w=1.0\n",
      "soft_stop ==> True [-10.0]\n",
      "soft_stop ==> True [-10.0]\n",
      "lawn ==> False [-15]\n",
      "soft_stop ==> True [-10.0]\n",
      "lawn ==> False [-15]\n",
      "TIME= 0.0 min., FAST (avg_velosity, ratio_steps)=[(0.0, 0), (0.0, 0), (1.4, 0), (0.0, 0), (1.4, 0)],\n",
      "STEPS= [1, 1, 1, 1, 1], finished 0 / 5\n",
      "\n",
      "\n",
      "    norms of grads =  [10.92, 13.19, 21.43, 4.45, 33.24, 0.5, 85.89, 1.86, 16.45, 0.39, 35.87, 0.97]\n",
      "    policy=-12.538, value=100.07, entropy=-0.53, en_w=0.4\n",
      "lawn ==> False [6.5, 13.48, 22.63, 30, 30, -121.96, -30]\n",
      "lawn ==> False [1.87, 6.5, 13.48, -28.41]\n",
      "lawn ==> False [12.13, 18.12, 25.16, 18.77, 14.82, 12.81, -96.63]\n",
      "lawn ==> False [30, 30, 30, 30, 30, 30, -314.47]\n",
      "lawn ==> False [1.87, 6.5, -15]\n",
      "TIME= 4.4 min., FAST (avg_velosity, ratio_steps)=[(5.6, 0), (3.5, 0), (3.9, 0), (7.1, 0), (2.2, 0)],\n",
      "STEPS= [8, 4, 10, 12, 3], finished 0 / 5\n",
      "\n",
      "\n",
      "    norms of grads =  [26.26, 96.77, 178.27, 46.08, 26.47, 0.3, 81.65, 1.27, 98.26, 1.35, 271.6, 3.52]\n",
      "    policy=-2.73, value=842.95, entropy=-0.22, en_w=1.8\n",
      "lawn ==> False [3.48, 7.22, 4.26, 3.48, 1.87, 3.48, -10.95]\n",
      "lawn ==> False [1.87, 6.5, -15]\n",
      "lawn ==> False [1.87, 6.5, -15]\n",
      "lawn ==> False [7.94, 14.82, 23.9, 30, 30, 30, -173.05]\n",
      "lawn ==> False [7.22, 12.81, 20.71, 30, 30, 30, -178.37]\n",
      "TIME= 9.1 min., FAST (avg_velosity, ratio_steps)=[(1.8, 0), (2.8, 0), (2.8, 0), (5.2, 0), (5.6, 0)],\n",
      "STEPS= [8, 3, 3, 9, 9], finished 0 / 5\n",
      "\n",
      "\n",
      "    norms of grads =  [19.01, 29.46, 39.58, 9.53, 67.58, 1.2, 202.91, 4.49, 20.49, 0.25, 44.01, 0.5]\n",
      "    policy=2.471, value=241.97, entropy=-0.72, en_w=3.6\n",
      "lawn ==> False [1.0, 3.48, 7.22, 12.13, -28.69]\n",
      "lawn ==> False [14.82, 18.77, 25.16, 18.77, 14.82, 13.48, -97.37]\n",
      "lawn ==> False [6.5, 7.94, 12.13, 18.77, 27.66, 20.71, -101.39]\n",
      "lawn ==> False [7.22, 12.13, 18.12, 25.79, 30, 30, -153.91]\n",
      "lawn ==> False [1.0, 3.48, -15]\n",
      "TIME= 13.2 min., FAST (avg_velosity, ratio_steps)=[(3.0, 0), (3.6, 0), (3.7, 0), (4.7, 0), (2.0, 0)],\n",
      "STEPS= [5, 20, 10, 9, 3], finished 0 / 5\n",
      "\n",
      "\n"
     ]
    }
   ],
   "source": [
    "e.set_seed(seed=10)\n",
    "\n",
    "model = CarNet()\n",
    "\n",
    "optimizer = optim.Adam(model.parameters(), lr=0.0005, eps=1e-3)\n",
    "\n",
    "\n",
    "alg = a2c.A2C(model, optimizer, gamma=0.90, policy_weight=1.,\n",
    "              value_weight=0.1, entropy_weight=1., clip_grad=10.,tensor_board=False)\n",
    "\n",
    "def make_env_fn():\n",
    "    return e.Env()\n",
    "\n",
    "vec_env = e.VecEnv(make_env_fn, 3)\n",
    "\n",
    "alg.train(vec_env, ev_env=make_env_fn(), max_steps=1e7, n_steps=5)"
   ]
  },
  {
   "cell_type": "markdown",
   "metadata": {},
   "source": [
    "Evaluate trained model"
   ]
  },
  {
   "cell_type": "code",
   "execution_count": 5,
   "metadata": {},
   "outputs": [
    {
     "name": "stdout",
     "output_type": "stream",
     "text": [
      "loading checkpoint checkpoint.pth\n",
      "finished ==> False [4.26, 4.26, 7.94, 12.81, 14.82, 13.48, 14.82]\n",
      "finished ==> False [12.81, 7.22, 4.26, 4.26, 7.22, 12.81, 18.77]\n",
      "finished ==> False [25.79, 18.77, 12.13, 12.81, 10.06, 10.06, 12.81]\n",
      "finished ==> False [30, 25.79, 18.12, 12.81, 10.06, 10.06, 12.81]\n",
      "finished ==> False [18.77, 12.13, 7.94, 6.5, 7.94, 12.13, 18.77]\n",
      "TIME= 0.0 min., FAST (avg_velosity, ratio_steps)=[(4.3, 4.38), (4.6, 4.41), (4.2, 4.21), (4.6, 4.4), (4.4, 4.54)],\n",
      "STEPS= [47, 51, 62, 57, 59], finished 5 / 5\n",
      "\n",
      "\n"
     ]
    },
    {
     "data": {
      "text/plain": [
       "55.2"
      ]
     },
     "execution_count": 5,
     "metadata": {},
     "output_type": "execute_result"
    }
   ],
   "source": [
    "e.set_seed(seed=10)\n",
    "\n",
    "model = CarNet()\n",
    "\n",
    "optimizer = optim.Adam(model.parameters(), lr=0.0005, eps=1e-3)\n",
    "\n",
    "trained_alg = a2c.A2C(model, optimizer, gamma=0.90, policy_weight=1., value_weight=0.1, entropy_weight=1., clip_grad=10.,\n",
    "                      checkpoint=\"checkpoint.pth\", tensor_board=False)\n",
    "\n",
    "trained_alg.evaluate(ev_env=e.Env())\n"
   ]
  },
  {
   "cell_type": "code",
   "execution_count": 1,
   "metadata": {},
   "outputs": [
    {
     "name": "stdout",
     "output_type": "stream",
     "text": [
      "loading checkpoint checkpoint.pth\n",
      "finished ==> False [18.12, 18.77, 12.13, 7.94, 6.5, 7.94, 12.13]\n",
      "TIME= 0.0 min., FAST (avg_velosity, ratio_steps)=[(4.1, 4.18)],\n",
      "STEPS= [66], finished 1 / 1\n",
      "\n",
      "\n"
     ]
    },
    {
     "data": {
      "application/vnd.jupyter.widget-view+json": {
       "model_id": "bb73830aa9b2496899b9428bd09b02d2",
       "version_major": 2,
       "version_minor": 0
      },
      "image/png": "[encoded data removed]",
      "text/html": [
       "\n",
       "            <div style=\"display: inline-block;\">\n",
       "                <div class=\"jupyter-widgets widget-label\" style=\"text-align: center;\">\n",
       "                    Figure\n",
       "                </div>\n",
       "                <img src='data:image/png;base64,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' width=700.0/>\n",
       "            </div>\n",
       "        "
      ],
      "text/plain": [
       "Canvas(toolbar=Toolbar(toolitems=[('Home', 'Reset original view', 'home', 'home'), ('Back', 'Back to previous …"
      ]
     },
     "metadata": {},
     "output_type": "display_data"
    }
   ],
   "source": [
    "gcolab = False\n",
    "\n",
    "try:\n",
    "    import google.colab \n",
    "    gcolab = True\n",
    "    from matplotlib import rc\n",
    "    rc('animation', html='jshtml')\n",
    "\n",
    "except ModuleNotFoundError:\n",
    "    # for vscode\n",
    "    %matplotlib ipympl\n",
    "\n",
    "e.set_seed(seed=10)\n",
    "\n",
    "model = CarNet()\n",
    "\n",
    "optimizer = optim.Adam(model.parameters(), lr=0.0005, eps=1e-3)\n",
    "\n",
    "trained_alg = a2c.A2C(model, optimizer, gamma=0.90, policy_weight=1., value_weight=0.1, entropy_weight=1., clip_grad=10.,\n",
    "              checkpoint=\"checkpoint.pth\", tensor_board=False)\n",
    "\n",
    "ani = trained_alg.animate(env=e.Env(seed=450))\n",
    "\n",
    "if gcolab:\n",
    "    from IPython.display import HTML\n",
    "    HTML(ani.to_html5_video())"
   ]
  },
  {
   "cell_type": "markdown",
   "metadata": {},
   "source": [
    "Save animation in file"
   ]
  },
  {
   "cell_type": "code",
   "execution_count": 2,
   "metadata": {},
   "outputs": [],
   "source": [
    "from matplotlib.animation import PillowWriter\n",
    "writer = PillowWriter(fps=5) \n",
    "ani.save(\"animation.gif\", writer=writer)"
   ]
  }
 ],
 "metadata": {
  "interpreter": {
   "hash": "78677d11e209187fd0162f485b6968a6d263859ce638ff0b060f2696ee907841"
  },
  "kernelspec": {
   "display_name": "Python 3.9.6 64-bit ('dl_env': conda)",
   "name": "python3"
  },
  "language_info": {
   "codemirror_mode": {
    "name": "ipython",
    "version": 3
   },
   "file_extension": ".py",
   "mimetype": "text/x-python",
   "name": "python",
   "nbconvert_exporter": "python",
   "pygments_lexer": "ipython3",
   "version": "3.9.6"
  },
  "orig_nbformat": 4
 },
 "nbformat": 4,
 "nbformat_minor": 2
}
