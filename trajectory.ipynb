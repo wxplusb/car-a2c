{
 "cells": [
  {
   "cell_type": "code",
   "execution_count": null,
   "metadata": {},
   "outputs": [],
   "source": [
    "import matplotlib.pyplot as plt\n",
    "import numpy as np"
   ]
  },
  {
   "cell_type": "code",
   "execution_count": 2,
   "metadata": {},
   "outputs": [
    {
     "data": {
      "text/plain": [
       "<matplotlib.image.AxesImage at 0x62b4601d00>"
      ]
     },
     "execution_count": 2,
     "metadata": {},
     "output_type": "execute_result"
    },
    {
     "data": {
      "image/png": "[encoded data removed]",
      "text/plain": [
       "<Figure size 360x360 with 1 Axes>"
      ]
     },
     "metadata": {
      "needs_background": "light"
     },
     "output_type": "display_data"
    }
   ],
   "source": [
    "H = 50\n",
    "W = 100\n",
    "size_square = 10\n",
    "width_road = 2\n",
    "area = np.zeros((H,W))\n",
    "area[5,5]=1\n",
    "\n",
    "fig,ax = plt.subplots(figsize=(5,5))\n",
    "ax.imshow(area,origin=\"lower\")"
   ]
  },
  {
   "cell_type": "code",
   "execution_count": 5,
   "metadata": {},
   "outputs": [
    {
     "data": {
      "text/plain": [
       "<matplotlib.image.AxesImage at 0x62b4b0e7c0>"
      ]
     },
     "execution_count": 5,
     "metadata": {},
     "output_type": "execute_result"
    },
    {
     "data": {
      "image/png": "[encoded data removed]",
      "text/plain": [
       "<Figure size 504x360 with 1 Axes>"
      ]
     },
     "metadata": {
      "needs_background": "light"
     },
     "output_type": "display_data"
    }
   ],
   "source": [
    "fig,ax = plt.subplots(figsize=(7,5))\n",
    "area = np.zeros((H,W))\n",
    "area[:5,0]=1\n",
    "ax.imshow(area,origin=\"lower\")"
   ]
  },
  {
   "cell_type": "code",
   "execution_count": 6,
   "metadata": {},
   "outputs": [],
   "source": [
    "from random import randrange\n",
    "\n",
    "max_height = int(H/size_square)\n",
    "max_width = int(W/size_square)\n",
    "\n",
    "squares = np.zeros((max_height, max_width))\n",
    "square0 = (0, 0)\n",
    "c1 = [-1, 0, 1]  # y\n",
    "c2 = [0, 1]  # x\n",
    "\n",
    "squares[square0] = 1\n",
    "trajectory = [square0]\n",
    "\n",
    "\n",
    "def approachable_squares(square, squares, max_h, max_w):\n",
    "    y, x = square\n",
    "    return [(y+dy, x+dx) for dy in c1 for dx in c2 if 0 <= y+dy < max_h and 0 <= x+dx < max_w and squares[y+dy, x+dx] == 0]\n",
    "\n",
    "\n",
    "def choose_square(s):\n",
    "    return s[randrange(0, len(s))]\n"
   ]
  },
  {
   "cell_type": "code",
   "execution_count": 7,
   "metadata": {},
   "outputs": [
    {
     "data": {
      "text/plain": [
       "array([[ 1.,  3.,  0.,  6.,  7.,  0.,  0., 10.,  0., 14.],\n",
       "       [ 2.,  0.,  4.,  5.,  0.,  8.,  9., 11.,  0., 13.],\n",
       "       [ 0.,  0.,  0.,  0.,  0.,  0.,  0.,  0., 12.,  0.],\n",
       "       [ 0.,  0.,  0.,  0.,  0.,  0.,  0.,  0.,  0.,  0.],\n",
       "       [ 0.,  0.,  0.,  0.,  0.,  0.,  0.,  0.,  0.,  0.]])"
      ]
     },
     "execution_count": 7,
     "metadata": {},
     "output_type": "execute_result"
    }
   ],
   "source": [
    "square = square0\n",
    "num_step = 1\n",
    "while sqs := approachable_squares(square, squares, max_height, max_width):\n",
    "\n",
    "    square = choose_square(sqs)\n",
    "    # print(coord)\n",
    "    num_step += 1\n",
    "    squares[square] = num_step\n",
    "    trajectory.append(square)\n",
    "    # print(trajectory)\n",
    "squares\n"
   ]
  },
  {
   "cell_type": "code",
   "execution_count": 8,
   "metadata": {},
   "outputs": [
    {
     "data": {
      "text/plain": [
       "[<matplotlib.lines.Line2D at 0x62b46d8070>]"
      ]
     },
     "execution_count": 8,
     "metadata": {},
     "output_type": "execute_result"
    },
    {
     "data": {
      "image/png": "[encoded data removed]",
      "text/plain": [
       "<Figure size 360x360 with 1 Axes>"
      ]
     },
     "metadata": {
      "needs_background": "light"
     },
     "output_type": "display_data"
    }
   ],
   "source": [
    "yy = [y*5 for y, x in trajectory]\n",
    "xx = [x*5 for y, x in trajectory]\n",
    "\n",
    "fig, ax = plt.subplots(figsize=(5, 5))\n",
    "area = np.zeros((H,W))\n",
    "ax.imshow(area,origin=\"lower\")\n",
    "ax.plot(xx, yy)\n"
   ]
  },
  {
   "cell_type": "code",
   "execution_count": 9,
   "metadata": {},
   "outputs": [
    {
     "data": {
      "text/plain": [
       "[(0, 0),\n",
       " (1, 0),\n",
       " (0, 1),\n",
       " (1, 2),\n",
       " (1, 3),\n",
       " (0, 3),\n",
       " (0, 4),\n",
       " (1, 5),\n",
       " (1, 6),\n",
       " (0, 7),\n",
       " (1, 7),\n",
       " (2, 8),\n",
       " (1, 9),\n",
       " (0, 9)]"
      ]
     },
     "execution_count": 9,
     "metadata": {},
     "output_type": "execute_result"
    }
   ],
   "source": [
    "trajectory"
   ]
  },
  {
   "cell_type": "code",
   "execution_count": 10,
   "metadata": {},
   "outputs": [
    {
     "data": {
      "text/plain": [
       "[<matplotlib.lines.Line2D at 0x62b473e610>]"
      ]
     },
     "execution_count": 10,
     "metadata": {},
     "output_type": "execute_result"
    },
    {
     "data": {
      "image/png": "[encoded data removed]",
      "text/plain": [
       "<Figure size 1080x1080 with 1 Axes>"
      ]
     },
     "metadata": {
      "needs_background": "light"
     },
     "output_type": "display_data"
    }
   ],
   "source": [
    "#  start\n",
    "turning_points= [(3, 0)]\n",
    "# y = [randrange(0,size_square)+step[0]*size_square for step in trajectory]\n",
    "# x = [randrange(0,size_square)+step[1]*size_square for step in trajectory]\n",
    "\n",
    "# between start and finish\n",
    "# step (2,1) = (y,x)\n",
    "for step in trajectory:\n",
    "    turning_points.append((randrange(0, size_square) +\n",
    "                step[0]*size_square, randrange(0, size_square)+step[1]*size_square))\n",
    "\n",
    "#  finish\n",
    "if trajectory[-1][0] == 0:\n",
    "    turning_points.append((3, W))\n",
    "else:\n",
    "    turning_points.append((H-3,W))\n",
    "\n",
    "fig, ax = plt.subplots(figsize=(15, 15))\n",
    "area = np.zeros((H,W))\n",
    "ax.imshow(area, origin=\"lower\")\n",
    "\n",
    "y = [step[0] for step in turning_points]\n",
    "x = [step[1] for step in turning_points]\n",
    "ax.plot(x, y)\n"
   ]
  },
  {
   "cell_type": "code",
   "execution_count": 11,
   "metadata": {},
   "outputs": [
    {
     "data": {
      "text/plain": [
       "[(3, 0),\n",
       " (9, 6),\n",
       " (14, 4),\n",
       " (9, 10),\n",
       " (17, 21),\n",
       " (13, 33),\n",
       " (1, 31),\n",
       " (3, 42),\n",
       " (15, 51),\n",
       " (18, 69),\n",
       " (4, 73),\n",
       " (13, 75),\n",
       " (27, 84),\n",
       " (16, 96),\n",
       " (1, 98),\n",
       " (3, 100)]"
      ]
     },
     "execution_count": 11,
     "metadata": {},
     "output_type": "execute_result"
    }
   ],
   "source": [
    "turning_points"
   ]
  },
  {
   "cell_type": "code",
   "execution_count": 12,
   "metadata": {},
   "outputs": [
    {
     "data": {
      "text/plain": [
       "[((3, 0), (9, 6)),\n",
       " ((9, 6), (14, 4)),\n",
       " ((14, 4), (9, 10)),\n",
       " ((9, 10), (17, 21)),\n",
       " ((17, 21), (13, 33)),\n",
       " ((13, 33), (1, 31)),\n",
       " ((1, 31), (3, 42)),\n",
       " ((3, 42), (15, 51)),\n",
       " ((15, 51), (18, 69)),\n",
       " ((18, 69), (4, 73)),\n",
       " ((4, 73), (13, 75)),\n",
       " ((13, 75), (27, 84)),\n",
       " ((27, 84), (16, 96)),\n",
       " ((16, 96), (1, 98)),\n",
       " ((1, 98), (3, 100))]"
      ]
     },
     "execution_count": 12,
     "metadata": {},
     "output_type": "execute_result"
    }
   ],
   "source": [
    "lines = (line for line in zip(turning_points,turning_points[1:]))\n",
    "list(lines)"
   ]
  },
  {
   "cell_type": "code",
   "execution_count": 13,
   "metadata": {},
   "outputs": [
    {
     "data": {
      "text/plain": [
       "<matplotlib.image.AxesImage at 0x62b476b1f0>"
      ]
     },
     "execution_count": 13,
     "metadata": {},
     "output_type": "execute_result"
    },
    {
     "data": {
      "image/png": "[encoded data removed]",
      "text/plain": [
       "<Figure size 504x504 with 1 Axes>"
      ]
     },
     "metadata": {
      "needs_background": "light"
     },
     "output_type": "display_data"
    }
   ],
   "source": [
    "def around(point, area, width):\n",
    "    y, x = point\n",
    "\n",
    "    y1 = max(y-width, 0)\n",
    "    y2 = min(y+width, H)\n",
    "\n",
    "    x1 = max(x-width, 0)\n",
    "    x2 = min(x+width, W)\n",
    "\n",
    "    area[y1:y2+1, x1:x2+1] = 1\n",
    "\n",
    "area = np.zeros((H, W))\n",
    "\n",
    "point = (7, 7)  # (y, x)\n",
    "\n",
    "around(point, area, 3)\n",
    "area[point] = 0\n",
    "\n",
    "fig, ax = plt.subplots(figsize=(7, 7))\n",
    "ax.imshow(area, origin=\"lower\")\n"
   ]
  },
  {
   "cell_type": "code",
   "execution_count": 14,
   "metadata": {},
   "outputs": [
    {
     "data": {
      "text/plain": [
       "<matplotlib.image.AxesImage at 0x62b4aab9d0>"
      ]
     },
     "execution_count": 14,
     "metadata": {},
     "output_type": "execute_result"
    },
    {
     "data": {
      "image/png": "[encoded data removed]",
      "text/plain": [
       "<Figure size 504x504 with 1 Axes>"
      ]
     },
     "metadata": {
      "needs_background": "light"
     },
     "output_type": "display_data"
    }
   ],
   "source": [
    "def connect_points(p1, p2):\n",
    "    y1, x1 = p1\n",
    "    y2, x2 = p2\n",
    "\n",
    "    num_steps = max(abs(y2 - y1), abs(x2 - x1))\n",
    "\n",
    "    step_y = (y2-y1)/num_steps\n",
    "    step_x = (x2-x1)/num_steps\n",
    "\n",
    "    line_points = [(int(y1+step_y*i), int(x1+step_x*i)) for i in range(num_steps)]\n",
    "\n",
    "    return line_points\n",
    "\n",
    "\n",
    "p1 = (3, 4)\n",
    "p2 = (17, 30)\n",
    "\n",
    "line_points = connect_points(p1, p2)\n",
    "\n",
    "area = np.zeros((H, W))\n",
    "\n",
    "ys = []\n",
    "xs = []\n",
    "\n",
    "for y, x in line_points:\n",
    "    ys.append(y)\n",
    "    xs.append(x)\n",
    "\n",
    "area[ys, xs] = 1\n",
    "\n",
    "fig, ax = plt.subplots(figsize=(7, 7))\n",
    "ax.imshow(area, origin=\"lower\")\n"
   ]
  },
  {
   "cell_type": "code",
   "execution_count": 15,
   "metadata": {},
   "outputs": [
    {
     "data": {
      "text/plain": [
       "[(3, 0), (4, 1), (5, 2), (6, 3), (7, 4), (8, 5), (9, 6)]"
      ]
     },
     "execution_count": 15,
     "metadata": {},
     "output_type": "execute_result"
    }
   ],
   "source": [
    "def make_path(turning_points):\n",
    "\n",
    "    path = []\n",
    "    \n",
    "    for p1, p2 in zip(turning_points, turning_points[1:]):\n",
    "        line_points = connect_points(p1, p2)\n",
    "        path.extend(line_points)\n",
    "\n",
    "    return path\n",
    "\n",
    "area = np.zeros((H, W))\n",
    "path = make_path(turning_points)\n",
    "path[:7]\n"
   ]
  },
  {
   "cell_type": "code",
   "execution_count": 16,
   "metadata": {},
   "outputs": [
    {
     "data": {
      "text/plain": [
       "<matplotlib.image.AxesImage at 0x62b49335b0>"
      ]
     },
     "execution_count": 16,
     "metadata": {},
     "output_type": "execute_result"
    },
    {
     "data": {
      "image/png": "[encoded data removed]",
      "text/plain": [
       "<Figure size 1080x1080 with 1 Axes>"
      ]
     },
     "metadata": {
      "needs_background": "light"
     },
     "output_type": "display_data"
    }
   ],
   "source": [
    "def build_road(path, area, width):\n",
    "    for point in path:\n",
    "        around(point, area, width)\n",
    "\n",
    "area = np.zeros((H, W))\n",
    "build_road(path, area, width_road)\n",
    "\n",
    "fig, ax = plt.subplots(figsize=(15, 15))\n",
    "ax.imshow(area, origin=\"lower\")"
   ]
  },
  {
   "cell_type": "code",
   "execution_count": 17,
   "metadata": {},
   "outputs": [
    {
     "name": "stdout",
     "output_type": "stream",
     "text": [
      "(50, 100)\n",
      "(60, 100)\n"
     ]
    },
    {
     "data": {
      "text/plain": [
       "<matplotlib.image.AxesImage at 0x62b4950dc0>"
      ]
     },
     "execution_count": 17,
     "metadata": {},
     "output_type": "execute_result"
    },
    {
     "data": {
      "image/png": "[encoded data removed]",
      "text/plain": [
       "<Figure size 1080x1080 with 1 Axes>"
      ]
     },
     "metadata": {
      "needs_background": "light"
     },
     "output_type": "display_data"
    }
   ],
   "source": [
    "padding = 5\n",
    "\n",
    "pad_y = np.zeros((padding, W))\n",
    "print(area.shape)\n",
    "area = np.vstack([pad_y, area, pad_y])\n",
    "\n",
    "print(area.shape)\n",
    "\n",
    "pad_x = np.zeros((H+2*padding, padding))\n",
    "area = np.hstack([pad_x, area, pad_x])\n",
    "\n",
    "fig, ax = plt.subplots(figsize=(15, 15))\n",
    "ax.imshow(area, origin=\"lower\")\n"
   ]
  },
  {
   "cell_type": "code",
   "execution_count": 19,
   "metadata": {},
   "outputs": [
    {
     "data": {
      "text/plain": [
       "<matplotlib.image.AxesImage at 0x62b5d3e280>"
      ]
     },
     "execution_count": 19,
     "metadata": {},
     "output_type": "execute_result"
    },
    {
     "data": {
      "image/png": "[encoded data removed]",
      "text/plain": [
       "<Figure size 1080x1080 with 1 Axes>"
      ]
     },
     "metadata": {
      "needs_background": "light"
     },
     "output_type": "display_data"
    }
   ],
   "source": [
    "def generate_road(H = 50, W =100, size_square = 10, width_road = 2, padding = 5):\n",
    "    max_height = int(H/size_square)\n",
    "    max_width = int(W/size_square)\n",
    "\n",
    "    squares = np.zeros((max_height, max_width))\n",
    "    square0 = (0, 0)\n",
    "    c1 = [-1, 0, 1]  # y\n",
    "    c2 = [0, 1]  # x\n",
    "\n",
    "    squares[square0] = 1\n",
    "    trajectory = [square0]\n",
    "\n",
    "    square = square0\n",
    "    num_step = 1\n",
    "    \n",
    "    while sqs := approachable_squares(square, squares, max_height, max_width):\n",
    "        square = choose_square(sqs)\n",
    "        num_step += 1\n",
    "        squares[square] = num_step\n",
    "        trajectory.append(square)\n",
    "        \n",
    "    # старт\n",
    "    turning_points= [(randrange(0, size_square), 0)]\n",
    "\n",
    "    for step in trajectory:\n",
    "        turning_points.append((randrange(0, size_square) +\n",
    "                    step[0]*size_square, randrange(0, size_square)+step[1]*size_square))\n",
    "    \n",
    "    #  finish\n",
    "    if trajectory[-1][0] == 0:\n",
    "        turning_points.append((3, W))\n",
    "    else:\n",
    "        turning_points.append((H-3,W))\n",
    "\n",
    "    path = make_path(turning_points)\n",
    "    area = np.zeros((H, W))\n",
    "    \n",
    "    build_road(path, area, width_road)\n",
    "\n",
    "    # pad_y = np.zeros((padding,W))\n",
    "    # area = np.vstack([pad_y, area, pad_y])\n",
    "\n",
    "    # pad_x = np.zeros((H+2*padding,padding))\n",
    "    # area = np.hstack([pad_x, area, pad_x])\n",
    "\n",
    "    return area\n",
    "\n",
    "area = generate_road()\n",
    "\n",
    "fig, ax = plt.subplots(figsize=(15, 15))\n",
    "ax.imshow(area, origin=\"lower\")  "
   ]
  }
 ],
 "metadata": {
  "interpreter": {
   "hash": "07ab906ef2a1009ae095a847bae6aab8e55764d4dc1fbb52cfc18e852da4477d"
  },
  "kernelspec": {
   "display_name": "Python 3.8.5 64-bit ('dl_env': conda)",
   "name": "python3"
  },
  "language_info": {
   "codemirror_mode": {
    "name": "ipython",
    "version": 3
   },
   "file_extension": ".py",
   "mimetype": "text/x-python",
   "name": "python",
   "nbconvert_exporter": "python",
   "pygments_lexer": "ipython3",
   "version": "3.9.6"
  },
  "orig_nbformat": 4
 },
 "nbformat": 4,
 "nbformat_minor": 2
}
